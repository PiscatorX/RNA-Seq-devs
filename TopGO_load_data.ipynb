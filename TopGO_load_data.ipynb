{
 "cells": [
  {
   "cell_type": "code",
   "execution_count": 1,
   "id": "70f8480b-dc61-49e9-b719-9180a21dd73f",
   "metadata": {
    "tags": []
   },
   "outputs": [
    {
     "name": "stderr",
     "output_type": "stream",
     "text": [
      "\n",
      "Attaching package: 'dplyr'\n",
      "\n",
      "\n",
      "The following objects are masked from 'package:stats':\n",
      "\n",
      "    filter, lag\n",
      "\n",
      "\n",
      "The following objects are masked from 'package:base':\n",
      "\n",
      "    intersect, setdiff, setequal, union\n",
      "\n",
      "\n",
      "Loading required package: BiocGenerics\n",
      "\n",
      "\n",
      "Attaching package: 'BiocGenerics'\n",
      "\n",
      "\n",
      "The following objects are masked from 'package:dplyr':\n",
      "\n",
      "    combine, intersect, setdiff, union\n",
      "\n",
      "\n",
      "The following objects are masked from 'package:stats':\n",
      "\n",
      "    IQR, mad, sd, var, xtabs\n",
      "\n",
      "\n",
      "The following objects are masked from 'package:base':\n",
      "\n",
      "    anyDuplicated, append, as.data.frame, basename, cbind, colnames,\n",
      "    dirname, do.call, duplicated, eval, evalq, Filter, Find, get, grep,\n",
      "    grepl, intersect, is.unsorted, lapply, Map, mapply, match, mget,\n",
      "    order, paste, pmax, pmax.int, pmin, pmin.int, Position, rank,\n",
      "    rbind, Reduce, rownames, sapply, setdiff, sort, table, tapply,\n",
      "    union, unique, unsplit, which.max, which.min\n",
      "\n",
      "\n",
      "Loading required package: graph\n",
      "\n",
      "Loading required package: Biobase\n",
      "\n",
      "Welcome to Bioconductor\n",
      "\n",
      "    Vignettes contain introductory material; view with\n",
      "    'browseVignettes()'. To cite Bioconductor, see\n",
      "    'citation(\"Biobase\")', and for packages 'citation(\"pkgname\")'.\n",
      "\n",
      "\n",
      "Loading required package: GO.db\n",
      "\n",
      "Loading required package: AnnotationDbi\n",
      "\n",
      "Loading required package: stats4\n",
      "\n",
      "Loading required package: IRanges\n",
      "\n",
      "Loading required package: S4Vectors\n",
      "\n",
      "\n",
      "Attaching package: 'S4Vectors'\n",
      "\n",
      "\n",
      "The following objects are masked from 'package:dplyr':\n",
      "\n",
      "    first, rename\n",
      "\n",
      "\n",
      "The following objects are masked from 'package:base':\n",
      "\n",
      "    expand.grid, I, unname\n",
      "\n",
      "\n",
      "\n",
      "Attaching package: 'IRanges'\n",
      "\n",
      "\n",
      "The following objects are masked from 'package:dplyr':\n",
      "\n",
      "    collapse, desc, slice\n",
      "\n",
      "\n",
      "The following object is masked from 'package:grDevices':\n",
      "\n",
      "    windows\n",
      "\n",
      "\n",
      "\n",
      "Attaching package: 'AnnotationDbi'\n",
      "\n",
      "\n",
      "The following object is masked from 'package:dplyr':\n",
      "\n",
      "    select\n",
      "\n",
      "\n",
      "\n",
      "\n",
      "Loading required package: SparseM\n",
      "\n",
      "\n",
      "Attaching package: 'SparseM'\n",
      "\n",
      "\n",
      "The following object is masked from 'package:base':\n",
      "\n",
      "    backsolve\n",
      "\n",
      "\n",
      "\n",
      "groupGOTerms: \tGOBPTerm, GOMFTerm, GOCCTerm environments built.\n",
      "\n",
      "\n",
      "Attaching package: 'topGO'\n",
      "\n",
      "\n",
      "The following object is masked from 'package:IRanges':\n",
      "\n",
      "    members\n",
      "\n",
      "\n"
     ]
    }
   ],
   "source": [
    "library(dplyr)\n",
    "library(topGO)\n",
    "library(readxl)\n",
    "library(magrittr)\n",
    "#https://datacatz.wordpress.com/2018/01/19/gene-set-enrichment-analysis-with-topgo-part-1/"
   ]
  },
  {
   "cell_type": "code",
   "execution_count": 2,
   "id": "caa1e0af-3231-4eb9-b4da-666a47f1b6ee",
   "metadata": {},
   "outputs": [
    {
     "data": {
      "text/html": [
       "<table class=\"dataframe\">\n",
       "<caption>A data.frame: 5 × 7</caption>\n",
       "<thead>\n",
       "\t<tr><th></th><th scope=col>swissprot_id</th><th scope=col>baseMean</th><th scope=col>log2FoldChange</th><th scope=col>lfcSE</th><th scope=col>stat</th><th scope=col>pvalue</th><th scope=col>padj</th></tr>\n",
       "\t<tr><th></th><th scope=col>&lt;chr&gt;</th><th scope=col>&lt;dbl&gt;</th><th scope=col>&lt;dbl&gt;</th><th scope=col>&lt;dbl&gt;</th><th scope=col>&lt;dbl&gt;</th><th scope=col>&lt;dbl&gt;</th><th scope=col>&lt;dbl&gt;</th></tr>\n",
       "</thead>\n",
       "<tbody>\n",
       "\t<tr><th scope=row>1</th><td>Q39131</td><td>20.73702</td><td> 2.405154</td><td>0.4615862</td><td> 5.210629</td><td>1.882014e-07</td><td>1.228963e-06</td></tr>\n",
       "\t<tr><th scope=row>2</th><td>Q9VT28</td><td>21.55222</td><td>-2.371291</td><td>0.4201792</td><td>-5.643524</td><td>1.666044e-08</td><td>1.298723e-07</td></tr>\n",
       "\t<tr><th scope=row>3</th><td>Q7RXY1</td><td>19.80091</td><td>-3.785769</td><td>0.5021629</td><td>-7.538926</td><td>4.738563e-14</td><td>2.657159e-13</td></tr>\n",
       "\t<tr><th scope=row>4</th><td>Q9SJA2</td><td>15.51202</td><td> 2.588327</td><td>0.4689666</td><td> 5.519215</td><td>3.405170e-08</td><td>2.519925e-07</td></tr>\n",
       "\t<tr><th scope=row>5</th><td>Q39434</td><td>68.70960</td><td>-2.005200</td><td>0.4140010</td><td>-4.843466</td><td>1.275937e-06</td><td>3.860169e-06</td></tr>\n",
       "</tbody>\n",
       "</table>\n"
      ],
      "text/latex": [
       "A data.frame: 5 × 7\n",
       "\\begin{tabular}{r|lllllll}\n",
       "  & swissprot\\_id & baseMean & log2FoldChange & lfcSE & stat & pvalue & padj\\\\\n",
       "  & <chr> & <dbl> & <dbl> & <dbl> & <dbl> & <dbl> & <dbl>\\\\\n",
       "\\hline\n",
       "\t1 & Q39131 & 20.73702 &  2.405154 & 0.4615862 &  5.210629 & 1.882014e-07 & 1.228963e-06\\\\\n",
       "\t2 & Q9VT28 & 21.55222 & -2.371291 & 0.4201792 & -5.643524 & 1.666044e-08 & 1.298723e-07\\\\\n",
       "\t3 & Q7RXY1 & 19.80091 & -3.785769 & 0.5021629 & -7.538926 & 4.738563e-14 & 2.657159e-13\\\\\n",
       "\t4 & Q9SJA2 & 15.51202 &  2.588327 & 0.4689666 &  5.519215 & 3.405170e-08 & 2.519925e-07\\\\\n",
       "\t5 & Q39434 & 68.70960 & -2.005200 & 0.4140010 & -4.843466 & 1.275937e-06 & 3.860169e-06\\\\\n",
       "\\end{tabular}\n"
      ],
      "text/markdown": [
       "\n",
       "A data.frame: 5 × 7\n",
       "\n",
       "| <!--/--> | swissprot_id &lt;chr&gt; | baseMean &lt;dbl&gt; | log2FoldChange &lt;dbl&gt; | lfcSE &lt;dbl&gt; | stat &lt;dbl&gt; | pvalue &lt;dbl&gt; | padj &lt;dbl&gt; |\n",
       "|---|---|---|---|---|---|---|---|\n",
       "| 1 | Q39131 | 20.73702 |  2.405154 | 0.4615862 |  5.210629 | 1.882014e-07 | 1.228963e-06 |\n",
       "| 2 | Q9VT28 | 21.55222 | -2.371291 | 0.4201792 | -5.643524 | 1.666044e-08 | 1.298723e-07 |\n",
       "| 3 | Q7RXY1 | 19.80091 | -3.785769 | 0.5021629 | -7.538926 | 4.738563e-14 | 2.657159e-13 |\n",
       "| 4 | Q9SJA2 | 15.51202 |  2.588327 | 0.4689666 |  5.519215 | 3.405170e-08 | 2.519925e-07 |\n",
       "| 5 | Q39434 | 68.70960 | -2.005200 | 0.4140010 | -4.843466 | 1.275937e-06 | 3.860169e-06 |\n",
       "\n"
      ],
      "text/plain": [
       "  swissprot_id baseMean log2FoldChange lfcSE     stat      pvalue      \n",
       "1 Q39131       20.73702  2.405154      0.4615862  5.210629 1.882014e-07\n",
       "2 Q9VT28       21.55222 -2.371291      0.4201792 -5.643524 1.666044e-08\n",
       "3 Q7RXY1       19.80091 -3.785769      0.5021629 -7.538926 4.738563e-14\n",
       "4 Q9SJA2       15.51202  2.588327      0.4689666  5.519215 3.405170e-08\n",
       "5 Q39434       68.70960 -2.005200      0.4140010 -4.843466 1.275937e-06\n",
       "  padj        \n",
       "1 1.228963e-06\n",
       "2 1.298723e-07\n",
       "3 2.657159e-13\n",
       "4 2.519925e-07\n",
       "5 3.860169e-06"
      ]
     },
     "metadata": {},
     "output_type": "display_data"
    }
   ],
   "source": [
    "#Read in the DESeq data\n",
    "deseq_results <- read.csv(\"Annotation-data/sample_DESEq2_results.tsv\", sep = \"\\t\")\n",
    "head(deseq_results, 5)"
   ]
  },
  {
   "cell_type": "code",
   "execution_count": 3,
   "id": "863bfe8a-e5bf-4bca-9945-85dee91a85a0",
   "metadata": {},
   "outputs": [
    {
     "data": {
      "text/html": [
       "1000"
      ],
      "text/latex": [
       "1000"
      ],
      "text/markdown": [
       "1000"
      ],
      "text/plain": [
       "[1] 1000"
      ]
     },
     "metadata": {},
     "output_type": "display_data"
    }
   ],
   "source": [
    "#Set up for GSEA\n",
    "#background genes/universal set\n",
    "#all the swissprot ids \n",
    "bg_genes <- deseq_results$swissprot_id\n",
    "length(bg_genes)"
   ]
  },
  {
   "cell_type": "code",
   "execution_count": 4,
   "id": "6784bcf8-18c9-4cbc-92a4-7709c9971561",
   "metadata": {},
   "outputs": [
    {
     "data": {
      "text/html": [
       "<style>\n",
       ".list-inline {list-style: none; margin:0; padding: 0}\n",
       ".list-inline>li {display: inline-block}\n",
       ".list-inline>li:not(:last-child)::after {content: \"\\00b7\"; padding: 0 .5ex}\n",
       "</style>\n",
       "<ol class=list-inline><li>241</li><li>1</li></ol>\n"
      ],
      "text/latex": [
       "\\begin{enumerate*}\n",
       "\\item 241\n",
       "\\item 1\n",
       "\\end{enumerate*}\n"
      ],
      "text/markdown": [
       "1. 241\n",
       "2. 1\n",
       "\n",
       "\n"
      ],
      "text/plain": [
       "[1] 241   1"
      ]
     },
     "metadata": {},
     "output_type": "display_data"
    }
   ],
   "source": [
    "#genes of interest/genes under selection/differentially expressed genes\n",
    "selected_genes <- deseq_results %>%\n",
    "                  #adjust for your experement\n",
    "                  dplyr::filter(padj < 0.001 & abs(log2FoldChange) > 4) %>%\n",
    "                  dplyr::select(swissprot_id, log2FoldChange, padj) %>%\n",
    "                  dplyr::arrange(desc(log2FoldChange)) %>%\n",
    "                  dplyr::select(swissprot_id)\n",
    "# head(selected_genes, 2)\n",
    "# tail(selected_genes, 2)\n",
    "dim(selected_genes)\n",
    "sel_genes <- selected_genes$swissprot_id"
   ]
  },
  {
   "cell_type": "code",
   "execution_count": 5,
   "id": "2e70a745-3fb1-4066-8419-4211a4b21a34",
   "metadata": {},
   "outputs": [],
   "source": [
    "#A filter for selected/DEG genes\n",
    "geneList <- factor(as.integer(bg_genes %in% sel_genes))\n",
    "names(geneList) <- bg_genes"
   ]
  },
  {
   "cell_type": "code",
   "execution_count": 6,
   "id": "65bb737c-f5b8-4669-915d-ab464fc5ce08",
   "metadata": {},
   "outputs": [],
   "source": [
    "#create GO tables for MF and BP categories in the formated expected by TopGO\n",
    "swissprot2GO <- read.csv(\"Annotation-data/GJZM01.1.blastx_swissprot2GO_clean.tsv\", sep  = \"\\t\", header = F, colClasses=c(rep(\"character\",6)))  \n",
    "colnames(swissprot2GO) <- c(\"TransciptID\", \"SwissProtID\", \"GO_prefix\", \"GOID\", \"GO_classification\", \"GO_term\")\n",
    "#save swissprort to topGO custom format \n",
    "#Those ids without GO terms are not included in this list\n",
    "swissprotTopGO_MF <- swissprot2GO %>% dplyr::filter(GOID != \"\")  %>% dplyr::filter(GO_classification == \"F\") %>% mutate(myGO = paste(GO_prefix, GOID, sep = \":\")) %>% group_by(SwissProtID) %>% summarise(GO_terms = paste(myGO, collapse = \", \")) \n",
    "write.table(swissprotTopGO_MF, \"Annotation-data/GJZM01.1.swissprot2GO_MF.tsv\", sep = \"\\t\", row.names = F, quote = F, col.names = F)\n",
    "swissprotTopGO_BP <- swissprot2GO %>% dplyr::filter(GOID != \"\")  %>% dplyr::filter(GO_classification == \"P\") %>% mutate(myGO = paste(GO_prefix, GOID, sep = \":\")) %>% group_by(SwissProtID) %>% summarise(GO_terms = paste(myGO, collapse = \", \")) \n",
    "write.table(swissprotTopGO_BP, \"Annotation-data/GJZM01.1.swissprot2GO_BP.tsv\", sep = \"\\t\", row.names = F, quote = F, col.names = F)"
   ]
  },
  {
   "cell_type": "code",
   "execution_count": 7,
   "id": "969fa744-b828-455c-a6f5-6632df3a7490",
   "metadata": {},
   "outputs": [],
   "source": [
    "#Load mapping for GO terms\n",
    "geneID2GO_MF <- readMappings(\"Annotation-data/GJZM01.1.swissprot2GO_MF.tsv\")"
   ]
  },
  {
   "cell_type": "code",
   "execution_count": 8,
   "id": "e779b9f5-9bdf-4316-8790-2aa51f1470b0",
   "metadata": {},
   "outputs": [
    {
     "name": "stderr",
     "output_type": "stream",
     "text": [
      "\n",
      "Building most specific GOs .....\n",
      "\n",
      "\t( 518 GO terms found. )\n",
      "\n",
      "\n",
      "Build GO DAG topology ..........\n",
      "\n",
      "\t( 856 GO terms and 1101 relations. )\n",
      "\n",
      "\n",
      "Annotating nodes ...............\n",
      "\n",
      "\t( 673 genes annotated to the GO terms. )\n",
      "\n"
     ]
    }
   ],
   "source": [
    "#Setting for TopGO\n",
    "#create the TopGO data object\n",
    "#check the parameters in the documentation\n",
    "GOdata <- new(\"topGOdata\", ontology = \"MF\", allGenes = geneList, annot = annFUN.gene2GO, gene2GO = geneID2GO_MF)"
   ]
  },
  {
   "cell_type": "code",
   "execution_count": 9,
   "id": "8a3a6ec4-2ff1-46b1-a4a9-ebdee6da5fde",
   "metadata": {},
   "outputs": [
    {
     "name": "stderr",
     "output_type": "stream",
     "text": [
      "\n",
      "\t\t\t -- Classic Algorithm -- \n",
      "\n",
      "\t\t the algorithm is scoring 334 nontrivial nodes\n",
      "\t\t parameters: \n",
      "\t\t\t test statistic: fisher\n",
      "\n"
     ]
    }
   ],
   "source": [
    "resultFisher <- runTest(GOdata, algorithm = \"classic\", statistic = \"fisher\")"
   ]
  },
  {
   "cell_type": "code",
   "execution_count": 10,
   "id": "231a101f-3d5e-4b85-8d08-4b4acd4a6105",
   "metadata": {},
   "outputs": [],
   "source": [
    "allRes <- GenTable(GOdata, classicFisher = resultFisher, ranksOf = \"classicFisher\", topNodes = 10)\n",
    "#Please note that some people correct the p-values for multiple testing \n",
    "#https://datacatz.wordpress.com/2018/01/19/gene-set-enrichment-analysis-with-topgo-part-1/"
   ]
  },
  {
   "cell_type": "code",
   "execution_count": 11,
   "id": "22a2430c-b65e-4480-9704-616378b53d73",
   "metadata": {},
   "outputs": [
    {
     "data": {
      "text/html": [
       "<table class=\"dataframe\">\n",
       "<caption>A data.frame: 10 × 6</caption>\n",
       "<thead>\n",
       "\t<tr><th></th><th scope=col>GO.ID</th><th scope=col>Term</th><th scope=col>Annotated</th><th scope=col>Significant</th><th scope=col>Expected</th><th scope=col>classicFisher</th></tr>\n",
       "\t<tr><th></th><th scope=col>&lt;chr&gt;</th><th scope=col>&lt;chr&gt;</th><th scope=col>&lt;int&gt;</th><th scope=col>&lt;int&gt;</th><th scope=col>&lt;dbl&gt;</th><th scope=col>&lt;chr&gt;</th></tr>\n",
       "</thead>\n",
       "<tbody>\n",
       "\t<tr><th scope=row>1</th><td>GO:0004089</td><td>carbonate dehydratase activity             </td><td> 3</td><td> 3</td><td>0.74</td><td>0.015</td></tr>\n",
       "\t<tr><th scope=row>2</th><td>GO:0004499</td><td>N,N-dimethylaniline monooxygenase activi...</td><td> 3</td><td> 3</td><td>0.74</td><td>0.015</td></tr>\n",
       "\t<tr><th scope=row>3</th><td>GO:0016709</td><td>oxidoreductase activity, acting on paire...</td><td> 6</td><td> 4</td><td>1.47</td><td>0.034</td></tr>\n",
       "\t<tr><th scope=row>4</th><td>GO:0046906</td><td>tetrapyrrole binding                       </td><td>40</td><td>15</td><td>9.80</td><td>0.042</td></tr>\n",
       "\t<tr><th scope=row>5</th><td>GO:0030145</td><td>manganese ion binding                      </td><td> 9</td><td> 5</td><td>2.21</td><td>0.044</td></tr>\n",
       "\t<tr><th scope=row>6</th><td>GO:0098772</td><td>molecular function regulator               </td><td>12</td><td> 6</td><td>2.94</td><td>0.048</td></tr>\n",
       "\t<tr><th scope=row>7</th><td>GO:0003735</td><td>structural constituent of ribosome         </td><td>28</td><td>11</td><td>6.86</td><td>0.056</td></tr>\n",
       "\t<tr><th scope=row>8</th><td>GO:0004312</td><td>fatty acid synthase activity               </td><td> 2</td><td> 2</td><td>0.49</td><td>0.060</td></tr>\n",
       "\t<tr><th scope=row>9</th><td>GO:0004352</td><td>glutamate dehydrogenase (NAD+) activity    </td><td> 2</td><td> 2</td><td>0.49</td><td>0.060</td></tr>\n",
       "\t<tr><th scope=row>10</th><td>GO:0004353</td><td>glutamate dehydrogenase [NAD(P)+] activi...</td><td> 2</td><td> 2</td><td>0.49</td><td>0.060</td></tr>\n",
       "</tbody>\n",
       "</table>\n"
      ],
      "text/latex": [
       "A data.frame: 10 × 6\n",
       "\\begin{tabular}{r|llllll}\n",
       "  & GO.ID & Term & Annotated & Significant & Expected & classicFisher\\\\\n",
       "  & <chr> & <chr> & <int> & <int> & <dbl> & <chr>\\\\\n",
       "\\hline\n",
       "\t1 & GO:0004089 & carbonate dehydratase activity              &  3 &  3 & 0.74 & 0.015\\\\\n",
       "\t2 & GO:0004499 & N,N-dimethylaniline monooxygenase activi... &  3 &  3 & 0.74 & 0.015\\\\\n",
       "\t3 & GO:0016709 & oxidoreductase activity, acting on paire... &  6 &  4 & 1.47 & 0.034\\\\\n",
       "\t4 & GO:0046906 & tetrapyrrole binding                        & 40 & 15 & 9.80 & 0.042\\\\\n",
       "\t5 & GO:0030145 & manganese ion binding                       &  9 &  5 & 2.21 & 0.044\\\\\n",
       "\t6 & GO:0098772 & molecular function regulator                & 12 &  6 & 2.94 & 0.048\\\\\n",
       "\t7 & GO:0003735 & structural constituent of ribosome          & 28 & 11 & 6.86 & 0.056\\\\\n",
       "\t8 & GO:0004312 & fatty acid synthase activity                &  2 &  2 & 0.49 & 0.060\\\\\n",
       "\t9 & GO:0004352 & glutamate dehydrogenase (NAD+) activity     &  2 &  2 & 0.49 & 0.060\\\\\n",
       "\t10 & GO:0004353 & glutamate dehydrogenase {[}NAD(P)+{]} activi... &  2 &  2 & 0.49 & 0.060\\\\\n",
       "\\end{tabular}\n"
      ],
      "text/markdown": [
       "\n",
       "A data.frame: 10 × 6\n",
       "\n",
       "| <!--/--> | GO.ID &lt;chr&gt; | Term &lt;chr&gt; | Annotated &lt;int&gt; | Significant &lt;int&gt; | Expected &lt;dbl&gt; | classicFisher &lt;chr&gt; |\n",
       "|---|---|---|---|---|---|---|\n",
       "| 1 | GO:0004089 | carbonate dehydratase activity              |  3 |  3 | 0.74 | 0.015 |\n",
       "| 2 | GO:0004499 | N,N-dimethylaniline monooxygenase activi... |  3 |  3 | 0.74 | 0.015 |\n",
       "| 3 | GO:0016709 | oxidoreductase activity, acting on paire... |  6 |  4 | 1.47 | 0.034 |\n",
       "| 4 | GO:0046906 | tetrapyrrole binding                        | 40 | 15 | 9.80 | 0.042 |\n",
       "| 5 | GO:0030145 | manganese ion binding                       |  9 |  5 | 2.21 | 0.044 |\n",
       "| 6 | GO:0098772 | molecular function regulator                | 12 |  6 | 2.94 | 0.048 |\n",
       "| 7 | GO:0003735 | structural constituent of ribosome          | 28 | 11 | 6.86 | 0.056 |\n",
       "| 8 | GO:0004312 | fatty acid synthase activity                |  2 |  2 | 0.49 | 0.060 |\n",
       "| 9 | GO:0004352 | glutamate dehydrogenase (NAD+) activity     |  2 |  2 | 0.49 | 0.060 |\n",
       "| 10 | GO:0004353 | glutamate dehydrogenase [NAD(P)+] activi... |  2 |  2 | 0.49 | 0.060 |\n",
       "\n"
      ],
      "text/plain": [
       "   GO.ID      Term                                        Annotated Significant\n",
       "1  GO:0004089 carbonate dehydratase activity               3         3         \n",
       "2  GO:0004499 N,N-dimethylaniline monooxygenase activi...  3         3         \n",
       "3  GO:0016709 oxidoreductase activity, acting on paire...  6         4         \n",
       "4  GO:0046906 tetrapyrrole binding                        40        15         \n",
       "5  GO:0030145 manganese ion binding                        9         5         \n",
       "6  GO:0098772 molecular function regulator                12         6         \n",
       "7  GO:0003735 structural constituent of ribosome          28        11         \n",
       "8  GO:0004312 fatty acid synthase activity                 2         2         \n",
       "9  GO:0004352 glutamate dehydrogenase (NAD+) activity      2         2         \n",
       "10 GO:0004353 glutamate dehydrogenase [NAD(P)+] activi...  2         2         \n",
       "   Expected classicFisher\n",
       "1  0.74     0.015        \n",
       "2  0.74     0.015        \n",
       "3  1.47     0.034        \n",
       "4  9.80     0.042        \n",
       "5  2.21     0.044        \n",
       "6  2.94     0.048        \n",
       "7  6.86     0.056        \n",
       "8  0.49     0.060        \n",
       "9  0.49     0.060        \n",
       "10 0.49     0.060        "
      ]
     },
     "metadata": {},
     "output_type": "display_data"
    }
   ],
   "source": [
    "allRes\n",
    "# Annotated: number of genes (in our gene list) that are annotated with the term\n",
    "# Significant: Number of significantly DE genes annotated with that term (i.e. genes where geneList = 1)\n",
    "# Expected: Under random chance, number of genes that would be expected to be significantly DE and annotated with that term\n",
    "# raw.p.value: P-value from Fisher’s Exact Test, testing for association between significance and pathway membership."
   ]
  },
  {
   "cell_type": "code",
   "execution_count": 12,
   "id": "a13900d5-2bdc-42d8-bc78-4201a498aa89",
   "metadata": {},
   "outputs": [
    {
     "name": "stderr",
     "output_type": "stream",
     "text": [
      "Loading required package: Rgraphviz\n",
      "\n",
      "Loading required package: grid\n",
      "\n",
      "\n",
      "Attaching package: 'grid'\n",
      "\n",
      "\n",
      "The following object is masked from 'package:topGO':\n",
      "\n",
      "    depth\n",
      "\n",
      "\n",
      "\n",
      "Attaching package: 'Rgraphviz'\n",
      "\n",
      "\n",
      "The following objects are masked from 'package:IRanges':\n",
      "\n",
      "    from, to\n",
      "\n",
      "\n",
      "The following objects are masked from 'package:S4Vectors':\n",
      "\n",
      "    from, to\n",
      "\n",
      "\n"
     ]
    },
    {
     "data": {
      "text/plain": [
       "$dag\n",
       "A graphNEL graph with directed edges\n",
       "Number of Nodes = 20 \n",
       "Number of Edges = 21 \n",
       "\n",
       "$complete.dag\n",
       "[1] \"A graph with 20 nodes.\"\n"
      ]
     },
     "metadata": {},
     "output_type": "display_data"
    },
    {
     "data": {
      "image/png": "[encoded data removed]",
      "text/plain": [
       "plot without title"
      ]
     },
     "metadata": {
      "image/png": {
       "height": 420,
       "width": 420
      }
     },
     "output_type": "display_data"
    }
   ],
   "source": [
    "#Lots of visualisation options\n",
    "#Check the topGO manual\n",
    "#https://bioconductor.org/packages/release/bioc/vignettes/topGO/inst/doc/topGO.pdf\n",
    "showSigOfNodes(GOdata, score(resultFisher), firstSigNodes = 5, useInfo = 'all')"
   ]
  },
  {
   "cell_type": "code",
   "execution_count": null,
   "id": "8ae0b604-fd02-403e-8067-3867229fb85a",
   "metadata": {},
   "outputs": [],
   "source": []
  }
 ],
 "metadata": {
  "kernelspec": {
   "display_name": "R",
   "language": "R",
   "name": "ir"
  },
  "language_info": {
   "codemirror_mode": "r",
   "file_extension": ".r",
   "mimetype": "text/x-r-source",
   "name": "R",
   "pygments_lexer": "r",
   "version": "4.1.3"
  }
 },
 "nbformat": 4,
 "nbformat_minor": 5
}
