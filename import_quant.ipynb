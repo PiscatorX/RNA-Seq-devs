{
 "cells": [
  {
   "cell_type": "code",
   "execution_count": 2,
   "id": "e54060d4",
   "metadata": {},
   "outputs": [
    {
     "name": "stderr",
     "output_type": "stream",
     "text": [
      "\n",
      "Attaching package: 'dplyr'\n",
      "\n",
      "\n",
      "The following objects are masked from 'package:stats':\n",
      "\n",
      "    filter, lag\n",
      "\n",
      "\n",
      "The following objects are masked from 'package:base':\n",
      "\n",
      "    intersect, setdiff, setequal, union\n",
      "\n",
      "\n",
      "Loading required package: S4Vectors\n",
      "\n",
      "Loading required package: stats4\n",
      "\n",
      "Loading required package: BiocGenerics\n",
      "\n",
      "\n",
      "Attaching package: 'BiocGenerics'\n",
      "\n",
      "\n",
      "The following objects are masked from 'package:dplyr':\n",
      "\n",
      "    combine, intersect, setdiff, union\n",
      "\n",
      "\n",
      "The following objects are masked from 'package:stats':\n",
      "\n",
      "    IQR, mad, sd, var, xtabs\n",
      "\n",
      "\n",
      "The following objects are masked from 'package:base':\n",
      "\n",
      "    anyDuplicated, append, as.data.frame, basename, cbind, colnames,\n",
      "    dirname, do.call, duplicated, eval, evalq, Filter, Find, get, grep,\n",
      "    grepl, intersect, is.unsorted, lapply, Map, mapply, match, mget,\n",
      "    order, paste, pmax, pmax.int, pmin, pmin.int, Position, rank,\n",
      "    rbind, Reduce, rownames, sapply, setdiff, sort, table, tapply,\n",
      "    union, unique, unsplit, which.max, which.min\n",
      "\n",
      "\n",
      "\n",
      "Attaching package: 'S4Vectors'\n",
      "\n",
      "\n",
      "The following objects are masked from 'package:dplyr':\n",
      "\n",
      "    first, rename\n",
      "\n",
      "\n",
      "The following objects are masked from 'package:base':\n",
      "\n",
      "    expand.grid, I, unname\n",
      "\n",
      "\n",
      "Loading required package: IRanges\n",
      "\n",
      "\n",
      "Attaching package: 'IRanges'\n",
      "\n",
      "\n",
      "The following objects are masked from 'package:dplyr':\n",
      "\n",
      "    collapse, desc, slice\n",
      "\n",
      "\n",
      "The following object is masked from 'package:grDevices':\n",
      "\n",
      "    windows\n",
      "\n",
      "\n",
      "Loading required package: GenomicRanges\n",
      "\n",
      "Loading required package: GenomeInfoDb\n",
      "\n",
      "Loading required package: SummarizedExperiment\n",
      "\n",
      "Loading required package: MatrixGenerics\n",
      "\n",
      "Loading required package: matrixStats\n",
      "\n",
      "\n",
      "Attaching package: 'matrixStats'\n",
      "\n",
      "\n",
      "The following object is masked from 'package:dplyr':\n",
      "\n",
      "    count\n",
      "\n",
      "\n",
      "\n",
      "Attaching package: 'MatrixGenerics'\n",
      "\n",
      "\n",
      "The following objects are masked from 'package:matrixStats':\n",
      "\n",
      "    colAlls, colAnyNAs, colAnys, colAvgsPerRowSet, colCollapse,\n",
      "    colCounts, colCummaxs, colCummins, colCumprods, colCumsums,\n",
      "    colDiffs, colIQRDiffs, colIQRs, colLogSumExps, colMadDiffs,\n",
      "    colMads, colMaxs, colMeans2, colMedians, colMins, colOrderStats,\n",
      "    colProds, colQuantiles, colRanges, colRanks, colSdDiffs, colSds,\n",
      "    colSums2, colTabulates, colVarDiffs, colVars, colWeightedMads,\n",
      "    colWeightedMeans, colWeightedMedians, colWeightedSds,\n",
      "    colWeightedVars, rowAlls, rowAnyNAs, rowAnys, rowAvgsPerColSet,\n",
      "    rowCollapse, rowCounts, rowCummaxs, rowCummins, rowCumprods,\n",
      "    rowCumsums, rowDiffs, rowIQRDiffs, rowIQRs, rowLogSumExps,\n",
      "    rowMadDiffs, rowMads, rowMaxs, rowMeans2, rowMedians, rowMins,\n",
      "    rowOrderStats, rowProds, rowQuantiles, rowRanges, rowRanks,\n",
      "    rowSdDiffs, rowSds, rowSums2, rowTabulates, rowVarDiffs, rowVars,\n",
      "    rowWeightedMads, rowWeightedMeans, rowWeightedMedians,\n",
      "    rowWeightedSds, rowWeightedVars\n",
      "\n",
      "\n",
      "Loading required package: Biobase\n",
      "\n",
      "Welcome to Bioconductor\n",
      "\n",
      "    Vignettes contain introductory material; view with\n",
      "    'browseVignettes()'. To cite Bioconductor, see\n",
      "    'citation(\"Biobase\")', and for packages 'citation(\"pkgname\")'.\n",
      "\n",
      "\n",
      "\n",
      "Attaching package: 'Biobase'\n",
      "\n",
      "\n",
      "The following object is masked from 'package:MatrixGenerics':\n",
      "\n",
      "    rowMedians\n",
      "\n",
      "\n",
      "The following objects are masked from 'package:matrixStats':\n",
      "\n",
      "    anyMissing, rowMedians\n",
      "\n",
      "\n"
     ]
    }
   ],
   "source": [
    "library(dplyr)\n",
    "library(DESeq2)\n",
    "library(stringr)\n",
    "library(tximport)"
   ]
  },
  {
   "cell_type": "code",
   "execution_count": 8,
   "id": "b8adb18c",
   "metadata": {},
   "outputs": [
    {
     "data": {
      "text/html": [
       "<table class=\"dataframe\">\n",
       "<caption>A data.frame: 6 × 3</caption>\n",
       "<thead>\n",
       "\t<tr><th scope=col>Treatment</th><th scope=col>Rep</th><th scope=col>filename</th></tr>\n",
       "\t<tr><th scope=col>&lt;chr&gt;</th><th scope=col>&lt;chr&gt;</th><th scope=col>&lt;chr&gt;</th></tr>\n",
       "</thead>\n",
       "<tbody>\n",
       "\t<tr><td>Heat_stressed</td><td>Heat_stressed_rep1</td><td>IonXpressRNA_001_rawlib.basecaller.fastq</td></tr>\n",
       "\t<tr><td>Heat_stressed</td><td>Heat_stressed_rep2</td><td>IonXpressRNA_002_rawlib.basecaller.fastq</td></tr>\n",
       "\t<tr><td>Heat_stressed</td><td>Heat_stressed_rep3</td><td>IonXpressRNA_003_rawlib.basecaller.fastq</td></tr>\n",
       "\t<tr><td>Control      </td><td>Control_rep1      </td><td>IonXpressRNA_004_rawlib.basecaller.fastq</td></tr>\n",
       "\t<tr><td>Control      </td><td>Control_rep2      </td><td>IonXpressRNA_005_rawlib.basecaller.fastq</td></tr>\n",
       "\t<tr><td>Control      </td><td>Control_rep3      </td><td>IonXpressRNA_006_rawlib.basecaller.fastq</td></tr>\n",
       "</tbody>\n",
       "</table>\n"
      ],
      "text/latex": [
       "A data.frame: 6 × 3\n",
       "\\begin{tabular}{lll}\n",
       " Treatment & Rep & filename\\\\\n",
       " <chr> & <chr> & <chr>\\\\\n",
       "\\hline\n",
       "\t Heat\\_stressed & Heat\\_stressed\\_rep1 & IonXpressRNA\\_001\\_rawlib.basecaller.fastq\\\\\n",
       "\t Heat\\_stressed & Heat\\_stressed\\_rep2 & IonXpressRNA\\_002\\_rawlib.basecaller.fastq\\\\\n",
       "\t Heat\\_stressed & Heat\\_stressed\\_rep3 & IonXpressRNA\\_003\\_rawlib.basecaller.fastq\\\\\n",
       "\t Control       & Control\\_rep1       & IonXpressRNA\\_004\\_rawlib.basecaller.fastq\\\\\n",
       "\t Control       & Control\\_rep2       & IonXpressRNA\\_005\\_rawlib.basecaller.fastq\\\\\n",
       "\t Control       & Control\\_rep3       & IonXpressRNA\\_006\\_rawlib.basecaller.fastq\\\\\n",
       "\\end{tabular}\n"
      ],
      "text/markdown": [
       "\n",
       "A data.frame: 6 × 3\n",
       "\n",
       "| Treatment &lt;chr&gt; | Rep &lt;chr&gt; | filename &lt;chr&gt; |\n",
       "|---|---|---|\n",
       "| Heat_stressed | Heat_stressed_rep1 | IonXpressRNA_001_rawlib.basecaller.fastq |\n",
       "| Heat_stressed | Heat_stressed_rep2 | IonXpressRNA_002_rawlib.basecaller.fastq |\n",
       "| Heat_stressed | Heat_stressed_rep3 | IonXpressRNA_003_rawlib.basecaller.fastq |\n",
       "| Control       | Control_rep1       | IonXpressRNA_004_rawlib.basecaller.fastq |\n",
       "| Control       | Control_rep2       | IonXpressRNA_005_rawlib.basecaller.fastq |\n",
       "| Control       | Control_rep3       | IonXpressRNA_006_rawlib.basecaller.fastq |\n",
       "\n"
      ],
      "text/plain": [
       "  Treatment     Rep                filename                                \n",
       "1 Heat_stressed Heat_stressed_rep1 IonXpressRNA_001_rawlib.basecaller.fastq\n",
       "2 Heat_stressed Heat_stressed_rep2 IonXpressRNA_002_rawlib.basecaller.fastq\n",
       "3 Heat_stressed Heat_stressed_rep3 IonXpressRNA_003_rawlib.basecaller.fastq\n",
       "4 Control       Control_rep1       IonXpressRNA_004_rawlib.basecaller.fastq\n",
       "5 Control       Control_rep2       IonXpressRNA_005_rawlib.basecaller.fastq\n",
       "6 Control       Control_rep3       IonXpressRNA_006_rawlib.basecaller.fastq"
      ]
     },
     "metadata": {},
     "output_type": "display_data"
    }
   ],
   "source": [
    "(sampleTable <- read.table(\"Z_capensis.Transcriptome.tsv\", sep = \"\\t\", header = T))            "
   ]
  },
  {
   "cell_type": "code",
   "execution_count": 9,
   "id": "f3d3c12e-3a36-46ef-9fef-7f590e32cf42",
   "metadata": {},
   "outputs": [
    {
     "data": {
      "text/plain": [
       "               \n",
       "                Control_rep1 Control_rep2 Control_rep3 Heat_stressed_rep1\n",
       "  Control                  1            1            1                  0\n",
       "  Heat_stressed            0            0            0                  1\n",
       "               \n",
       "                Heat_stressed_rep2 Heat_stressed_rep3\n",
       "  Control                        0                  0\n",
       "  Heat_stressed                  1                  1"
      ]
     },
     "metadata": {},
     "output_type": "display_data"
    }
   ],
   "source": [
    "table(sampleTable$Treatment,sampleTable$Rep)"
   ]
  },
  {
   "cell_type": "code",
   "execution_count": 10,
   "id": "aba1434e-a6ff-4a84-8b97-5ffe20b2a25c",
   "metadata": {},
   "outputs": [
    {
     "data": {
      "text/plain": [
       "               Rep\n",
       "Treatment       Control_rep1 Control_rep2 Control_rep3 Heat_stressed_rep1\n",
       "  Control                  1            1            1                  0\n",
       "  Heat_stressed            0            0            0                  1\n",
       "               Rep\n",
       "Treatment       Heat_stressed_rep2 Heat_stressed_rep3\n",
       "  Control                        0                  0\n",
       "  Heat_stressed                  1                  1"
      ]
     },
     "metadata": {},
     "output_type": "display_data"
    }
   ],
   "source": [
    "xtabs(~Treatment + Rep ,data = sampleTable)"
   ]
  },
  {
   "cell_type": "code",
   "execution_count": 11,
   "id": "42954353-5ead-4271-a2ae-78b70744a46d",
   "metadata": {},
   "outputs": [],
   "source": [
    "sampleTable2 <- sampleTable %>%\n",
    "                dplyr::mutate(quantfile = str_replace(filename, \"basecaller.fastq\",\"sf\"))"
   ]
  },
  {
   "cell_type": "code",
   "execution_count": 12,
   "id": "1c594595-48e1-40c8-a418-a2497c1706fc",
   "metadata": {},
   "outputs": [
    {
     "data": {
      "text/html": [
       "<style>\n",
       ".list-inline {list-style: none; margin:0; padding: 0}\n",
       ".list-inline>li {display: inline-block}\n",
       ".list-inline>li:not(:last-child)::after {content: \"\\00b7\"; padding: 0 .5ex}\n",
       "</style>\n",
       "<ol class=list-inline><li>'/Users/andhlovu/Documents/RNA-seq-devs/DESeq2X/Salmon_raw//IonXpressRNA_001_rawlib.sf'</li><li>'/Users/andhlovu/Documents/RNA-seq-devs/DESeq2X/Salmon_raw//IonXpressRNA_002_rawlib.sf'</li><li>'/Users/andhlovu/Documents/RNA-seq-devs/DESeq2X/Salmon_raw//IonXpressRNA_003_rawlib.sf'</li><li>'/Users/andhlovu/Documents/RNA-seq-devs/DESeq2X/Salmon_raw//IonXpressRNA_004_rawlib.sf'</li><li>'/Users/andhlovu/Documents/RNA-seq-devs/DESeq2X/Salmon_raw//IonXpressRNA_005_rawlib.sf'</li><li>'/Users/andhlovu/Documents/RNA-seq-devs/DESeq2X/Salmon_raw//IonXpressRNA_006_rawlib.sf'</li></ol>\n"
      ],
      "text/latex": [
       "\\begin{enumerate*}\n",
       "\\item '/Users/andhlovu/Documents/RNA-seq-devs/DESeq2X/Salmon\\_raw//IonXpressRNA\\_001\\_rawlib.sf'\n",
       "\\item '/Users/andhlovu/Documents/RNA-seq-devs/DESeq2X/Salmon\\_raw//IonXpressRNA\\_002\\_rawlib.sf'\n",
       "\\item '/Users/andhlovu/Documents/RNA-seq-devs/DESeq2X/Salmon\\_raw//IonXpressRNA\\_003\\_rawlib.sf'\n",
       "\\item '/Users/andhlovu/Documents/RNA-seq-devs/DESeq2X/Salmon\\_raw//IonXpressRNA\\_004\\_rawlib.sf'\n",
       "\\item '/Users/andhlovu/Documents/RNA-seq-devs/DESeq2X/Salmon\\_raw//IonXpressRNA\\_005\\_rawlib.sf'\n",
       "\\item '/Users/andhlovu/Documents/RNA-seq-devs/DESeq2X/Salmon\\_raw//IonXpressRNA\\_006\\_rawlib.sf'\n",
       "\\end{enumerate*}\n"
      ],
      "text/markdown": [
       "1. '/Users/andhlovu/Documents/RNA-seq-devs/DESeq2X/Salmon_raw//IonXpressRNA_001_rawlib.sf'\n",
       "2. '/Users/andhlovu/Documents/RNA-seq-devs/DESeq2X/Salmon_raw//IonXpressRNA_002_rawlib.sf'\n",
       "3. '/Users/andhlovu/Documents/RNA-seq-devs/DESeq2X/Salmon_raw//IonXpressRNA_003_rawlib.sf'\n",
       "4. '/Users/andhlovu/Documents/RNA-seq-devs/DESeq2X/Salmon_raw//IonXpressRNA_004_rawlib.sf'\n",
       "5. '/Users/andhlovu/Documents/RNA-seq-devs/DESeq2X/Salmon_raw//IonXpressRNA_005_rawlib.sf'\n",
       "6. '/Users/andhlovu/Documents/RNA-seq-devs/DESeq2X/Salmon_raw//IonXpressRNA_006_rawlib.sf'\n",
       "\n",
       "\n"
      ],
      "text/plain": [
       "[1] \"/Users/andhlovu/Documents/RNA-seq-devs/DESeq2X/Salmon_raw//IonXpressRNA_001_rawlib.sf\"\n",
       "[2] \"/Users/andhlovu/Documents/RNA-seq-devs/DESeq2X/Salmon_raw//IonXpressRNA_002_rawlib.sf\"\n",
       "[3] \"/Users/andhlovu/Documents/RNA-seq-devs/DESeq2X/Salmon_raw//IonXpressRNA_003_rawlib.sf\"\n",
       "[4] \"/Users/andhlovu/Documents/RNA-seq-devs/DESeq2X/Salmon_raw//IonXpressRNA_004_rawlib.sf\"\n",
       "[5] \"/Users/andhlovu/Documents/RNA-seq-devs/DESeq2X/Salmon_raw//IonXpressRNA_005_rawlib.sf\"\n",
       "[6] \"/Users/andhlovu/Documents/RNA-seq-devs/DESeq2X/Salmon_raw//IonXpressRNA_006_rawlib.sf\""
      ]
     },
     "metadata": {},
     "output_type": "display_data"
    }
   ],
   "source": [
    "(quant_files <- file.path(\"/Users/andhlovu/Documents/RNA-seq-devs/DESeq2X/Salmon_raw/\", sampleTable2$quantfile))"
   ]
  },
  {
   "cell_type": "code",
   "execution_count": 13,
   "id": "6bbfbe82-7f3c-476e-a864-46d7a488d9b8",
   "metadata": {},
   "outputs": [],
   "source": [
    "names(quant_files)  <- sampleTable2$filename"
   ]
  },
  {
   "cell_type": "code",
   "execution_count": 14,
   "id": "d2cc26c6-6346-4ac5-af45-57fd780c05e7",
   "metadata": {},
   "outputs": [
    {
     "data": {
      "text/html": [
       "<style>\n",
       ".dl-inline {width: auto; margin:0; padding: 0}\n",
       ".dl-inline>dt, .dl-inline>dd {float: none; width: auto; display: inline-block}\n",
       ".dl-inline>dt::after {content: \":\\0020\"; padding-right: .5ex}\n",
       ".dl-inline>dt:not(:first-of-type) {padding-left: .5ex}\n",
       "</style><dl class=dl-inline><dt>IonXpressRNA_001_rawlib.basecaller.fastq</dt><dd>'/Users/andhlovu/Documents/RNA-seq-devs/DESeq2X/Salmon_raw//IonXpressRNA_001_rawlib.sf'</dd><dt>IonXpressRNA_002_rawlib.basecaller.fastq</dt><dd>'/Users/andhlovu/Documents/RNA-seq-devs/DESeq2X/Salmon_raw//IonXpressRNA_002_rawlib.sf'</dd><dt>IonXpressRNA_003_rawlib.basecaller.fastq</dt><dd>'/Users/andhlovu/Documents/RNA-seq-devs/DESeq2X/Salmon_raw//IonXpressRNA_003_rawlib.sf'</dd><dt>IonXpressRNA_004_rawlib.basecaller.fastq</dt><dd>'/Users/andhlovu/Documents/RNA-seq-devs/DESeq2X/Salmon_raw//IonXpressRNA_004_rawlib.sf'</dd><dt>IonXpressRNA_005_rawlib.basecaller.fastq</dt><dd>'/Users/andhlovu/Documents/RNA-seq-devs/DESeq2X/Salmon_raw//IonXpressRNA_005_rawlib.sf'</dd><dt>IonXpressRNA_006_rawlib.basecaller.fastq</dt><dd>'/Users/andhlovu/Documents/RNA-seq-devs/DESeq2X/Salmon_raw//IonXpressRNA_006_rawlib.sf'</dd></dl>\n"
      ],
      "text/latex": [
       "\\begin{description*}\n",
       "\\item[IonXpressRNA\\textbackslash{}\\_001\\textbackslash{}\\_rawlib.basecaller.fastq] '/Users/andhlovu/Documents/RNA-seq-devs/DESeq2X/Salmon\\_raw//IonXpressRNA\\_001\\_rawlib.sf'\n",
       "\\item[IonXpressRNA\\textbackslash{}\\_002\\textbackslash{}\\_rawlib.basecaller.fastq] '/Users/andhlovu/Documents/RNA-seq-devs/DESeq2X/Salmon\\_raw//IonXpressRNA\\_002\\_rawlib.sf'\n",
       "\\item[IonXpressRNA\\textbackslash{}\\_003\\textbackslash{}\\_rawlib.basecaller.fastq] '/Users/andhlovu/Documents/RNA-seq-devs/DESeq2X/Salmon\\_raw//IonXpressRNA\\_003\\_rawlib.sf'\n",
       "\\item[IonXpressRNA\\textbackslash{}\\_004\\textbackslash{}\\_rawlib.basecaller.fastq] '/Users/andhlovu/Documents/RNA-seq-devs/DESeq2X/Salmon\\_raw//IonXpressRNA\\_004\\_rawlib.sf'\n",
       "\\item[IonXpressRNA\\textbackslash{}\\_005\\textbackslash{}\\_rawlib.basecaller.fastq] '/Users/andhlovu/Documents/RNA-seq-devs/DESeq2X/Salmon\\_raw//IonXpressRNA\\_005\\_rawlib.sf'\n",
       "\\item[IonXpressRNA\\textbackslash{}\\_006\\textbackslash{}\\_rawlib.basecaller.fastq] '/Users/andhlovu/Documents/RNA-seq-devs/DESeq2X/Salmon\\_raw//IonXpressRNA\\_006\\_rawlib.sf'\n",
       "\\end{description*}\n"
      ],
      "text/markdown": [
       "IonXpressRNA_001_rawlib.basecaller.fastq\n",
       ":   '/Users/andhlovu/Documents/RNA-seq-devs/DESeq2X/Salmon_raw//IonXpressRNA_001_rawlib.sf'IonXpressRNA_002_rawlib.basecaller.fastq\n",
       ":   '/Users/andhlovu/Documents/RNA-seq-devs/DESeq2X/Salmon_raw//IonXpressRNA_002_rawlib.sf'IonXpressRNA_003_rawlib.basecaller.fastq\n",
       ":   '/Users/andhlovu/Documents/RNA-seq-devs/DESeq2X/Salmon_raw//IonXpressRNA_003_rawlib.sf'IonXpressRNA_004_rawlib.basecaller.fastq\n",
       ":   '/Users/andhlovu/Documents/RNA-seq-devs/DESeq2X/Salmon_raw//IonXpressRNA_004_rawlib.sf'IonXpressRNA_005_rawlib.basecaller.fastq\n",
       ":   '/Users/andhlovu/Documents/RNA-seq-devs/DESeq2X/Salmon_raw//IonXpressRNA_005_rawlib.sf'IonXpressRNA_006_rawlib.basecaller.fastq\n",
       ":   '/Users/andhlovu/Documents/RNA-seq-devs/DESeq2X/Salmon_raw//IonXpressRNA_006_rawlib.sf'\n",
       "\n"
      ],
      "text/plain": [
       "                                               IonXpressRNA_001_rawlib.basecaller.fastq \n",
       "\"/Users/andhlovu/Documents/RNA-seq-devs/DESeq2X/Salmon_raw//IonXpressRNA_001_rawlib.sf\" \n",
       "                                               IonXpressRNA_002_rawlib.basecaller.fastq \n",
       "\"/Users/andhlovu/Documents/RNA-seq-devs/DESeq2X/Salmon_raw//IonXpressRNA_002_rawlib.sf\" \n",
       "                                               IonXpressRNA_003_rawlib.basecaller.fastq \n",
       "\"/Users/andhlovu/Documents/RNA-seq-devs/DESeq2X/Salmon_raw//IonXpressRNA_003_rawlib.sf\" \n",
       "                                               IonXpressRNA_004_rawlib.basecaller.fastq \n",
       "\"/Users/andhlovu/Documents/RNA-seq-devs/DESeq2X/Salmon_raw//IonXpressRNA_004_rawlib.sf\" \n",
       "                                               IonXpressRNA_005_rawlib.basecaller.fastq \n",
       "\"/Users/andhlovu/Documents/RNA-seq-devs/DESeq2X/Salmon_raw//IonXpressRNA_005_rawlib.sf\" \n",
       "                                               IonXpressRNA_006_rawlib.basecaller.fastq \n",
       "\"/Users/andhlovu/Documents/RNA-seq-devs/DESeq2X/Salmon_raw//IonXpressRNA_006_rawlib.sf\" "
      ]
     },
     "metadata": {},
     "output_type": "display_data"
    }
   ],
   "source": [
    "quant_files"
   ]
  },
  {
   "cell_type": "code",
   "execution_count": 20,
   "id": "e66d7ea5-0da6-4d98-be8b-f90d2efe24bc",
   "metadata": {},
   "outputs": [],
   "source": [
    "rownames(sampleTable) <- colnames(tx_Data$counts)"
   ]
  },
  {
   "cell_type": "code",
   "execution_count": 19,
   "id": "2f79ba7d-6631-4bb1-a72a-bab80aee0987",
   "metadata": {},
   "outputs": [
    {
     "data": {
      "text/html": [
       "<table class=\"dataframe\">\n",
       "<caption>A data.frame: 6 × 3</caption>\n",
       "<thead>\n",
       "\t<tr><th></th><th scope=col>Treatment</th><th scope=col>Rep</th><th scope=col>filename</th></tr>\n",
       "\t<tr><th></th><th scope=col>&lt;chr&gt;</th><th scope=col>&lt;chr&gt;</th><th scope=col>&lt;chr&gt;</th></tr>\n",
       "</thead>\n",
       "<tbody>\n",
       "\t<tr><th scope=row>IonXpressRNA_001_rawlib.basecaller.fastq</th><td>Heat_stressed</td><td>Heat_stressed_rep1</td><td>IonXpressRNA_001_rawlib.basecaller.fastq</td></tr>\n",
       "\t<tr><th scope=row>IonXpressRNA_002_rawlib.basecaller.fastq</th><td>Heat_stressed</td><td>Heat_stressed_rep2</td><td>IonXpressRNA_002_rawlib.basecaller.fastq</td></tr>\n",
       "\t<tr><th scope=row>IonXpressRNA_003_rawlib.basecaller.fastq</th><td>Heat_stressed</td><td>Heat_stressed_rep3</td><td>IonXpressRNA_003_rawlib.basecaller.fastq</td></tr>\n",
       "\t<tr><th scope=row>IonXpressRNA_004_rawlib.basecaller.fastq</th><td>Control      </td><td>Control_rep1      </td><td>IonXpressRNA_004_rawlib.basecaller.fastq</td></tr>\n",
       "\t<tr><th scope=row>IonXpressRNA_005_rawlib.basecaller.fastq</th><td>Control      </td><td>Control_rep2      </td><td>IonXpressRNA_005_rawlib.basecaller.fastq</td></tr>\n",
       "\t<tr><th scope=row>IonXpressRNA_006_rawlib.basecaller.fastq</th><td>Control      </td><td>Control_rep3      </td><td>IonXpressRNA_006_rawlib.basecaller.fastq</td></tr>\n",
       "</tbody>\n",
       "</table>\n"
      ],
      "text/latex": [
       "A data.frame: 6 × 3\n",
       "\\begin{tabular}{r|lll}\n",
       "  & Treatment & Rep & filename\\\\\n",
       "  & <chr> & <chr> & <chr>\\\\\n",
       "\\hline\n",
       "\tIonXpressRNA\\_001\\_rawlib.basecaller.fastq & Heat\\_stressed & Heat\\_stressed\\_rep1 & IonXpressRNA\\_001\\_rawlib.basecaller.fastq\\\\\n",
       "\tIonXpressRNA\\_002\\_rawlib.basecaller.fastq & Heat\\_stressed & Heat\\_stressed\\_rep2 & IonXpressRNA\\_002\\_rawlib.basecaller.fastq\\\\\n",
       "\tIonXpressRNA\\_003\\_rawlib.basecaller.fastq & Heat\\_stressed & Heat\\_stressed\\_rep3 & IonXpressRNA\\_003\\_rawlib.basecaller.fastq\\\\\n",
       "\tIonXpressRNA\\_004\\_rawlib.basecaller.fastq & Control       & Control\\_rep1       & IonXpressRNA\\_004\\_rawlib.basecaller.fastq\\\\\n",
       "\tIonXpressRNA\\_005\\_rawlib.basecaller.fastq & Control       & Control\\_rep2       & IonXpressRNA\\_005\\_rawlib.basecaller.fastq\\\\\n",
       "\tIonXpressRNA\\_006\\_rawlib.basecaller.fastq & Control       & Control\\_rep3       & IonXpressRNA\\_006\\_rawlib.basecaller.fastq\\\\\n",
       "\\end{tabular}\n"
      ],
      "text/markdown": [
       "\n",
       "A data.frame: 6 × 3\n",
       "\n",
       "| <!--/--> | Treatment &lt;chr&gt; | Rep &lt;chr&gt; | filename &lt;chr&gt; |\n",
       "|---|---|---|---|\n",
       "| IonXpressRNA_001_rawlib.basecaller.fastq | Heat_stressed | Heat_stressed_rep1 | IonXpressRNA_001_rawlib.basecaller.fastq |\n",
       "| IonXpressRNA_002_rawlib.basecaller.fastq | Heat_stressed | Heat_stressed_rep2 | IonXpressRNA_002_rawlib.basecaller.fastq |\n",
       "| IonXpressRNA_003_rawlib.basecaller.fastq | Heat_stressed | Heat_stressed_rep3 | IonXpressRNA_003_rawlib.basecaller.fastq |\n",
       "| IonXpressRNA_004_rawlib.basecaller.fastq | Control       | Control_rep1       | IonXpressRNA_004_rawlib.basecaller.fastq |\n",
       "| IonXpressRNA_005_rawlib.basecaller.fastq | Control       | Control_rep2       | IonXpressRNA_005_rawlib.basecaller.fastq |\n",
       "| IonXpressRNA_006_rawlib.basecaller.fastq | Control       | Control_rep3       | IonXpressRNA_006_rawlib.basecaller.fastq |\n",
       "\n"
      ],
      "text/plain": [
       "                                         Treatment     Rep               \n",
       "IonXpressRNA_001_rawlib.basecaller.fastq Heat_stressed Heat_stressed_rep1\n",
       "IonXpressRNA_002_rawlib.basecaller.fastq Heat_stressed Heat_stressed_rep2\n",
       "IonXpressRNA_003_rawlib.basecaller.fastq Heat_stressed Heat_stressed_rep3\n",
       "IonXpressRNA_004_rawlib.basecaller.fastq Control       Control_rep1      \n",
       "IonXpressRNA_005_rawlib.basecaller.fastq Control       Control_rep2      \n",
       "IonXpressRNA_006_rawlib.basecaller.fastq Control       Control_rep3      \n",
       "                                         filename                                \n",
       "IonXpressRNA_001_rawlib.basecaller.fastq IonXpressRNA_001_rawlib.basecaller.fastq\n",
       "IonXpressRNA_002_rawlib.basecaller.fastq IonXpressRNA_002_rawlib.basecaller.fastq\n",
       "IonXpressRNA_003_rawlib.basecaller.fastq IonXpressRNA_003_rawlib.basecaller.fastq\n",
       "IonXpressRNA_004_rawlib.basecaller.fastq IonXpressRNA_004_rawlib.basecaller.fastq\n",
       "IonXpressRNA_005_rawlib.basecaller.fastq IonXpressRNA_005_rawlib.basecaller.fastq\n",
       "IonXpressRNA_006_rawlib.basecaller.fastq IonXpressRNA_006_rawlib.basecaller.fastq"
      ]
     },
     "metadata": {},
     "output_type": "display_data"
    }
   ],
   "source": [
    "sampleTable"
   ]
  },
  {
   "cell_type": "code",
   "execution_count": 15,
   "id": "5ab9a24d-7009-400a-89d4-3a9699e16843",
   "metadata": {},
   "outputs": [
    {
     "name": "stderr",
     "output_type": "stream",
     "text": [
      "reading in files with read_tsv\n",
      "\n",
      "1 \n",
      "2 \n",
      "3 \n",
      "4 \n",
      "5 \n",
      "6 \n",
      "\n",
      "\n"
     ]
    }
   ],
   "source": [
    "tx_Data <- tximport::tximport(quant_files, type = \"salmon\", txOut = T)"
   ]
  },
  {
   "cell_type": "code",
   "execution_count": 21,
   "id": "56f1e807-672a-452c-aaf8-2da0dd80712f",
   "metadata": {},
   "outputs": [
    {
     "name": "stderr",
     "output_type": "stream",
     "text": [
      "Warning message in DESeqDataSet(se, design = design, ignoreRank):\n",
      "\"some variables in design formula are characters, converting to factors\"\n",
      "using counts and average transcript lengths from tximport\n",
      "\n"
     ]
    }
   ],
   "source": [
    "dsTxi <- DESeqDataSetFromTximport(tx_Data,\n",
    "                                  colData = sampleTable,\n",
    "                                  design = ~ Treatment)"
   ]
  },
  {
   "cell_type": "code",
   "execution_count": 22,
   "id": "b887d15d-aa91-402f-9305-25470af5b051",
   "metadata": {},
   "outputs": [
    {
     "name": "stderr",
     "output_type": "stream",
     "text": [
      "estimating size factors\n",
      "\n",
      "using 'avgTxLength' from assays(dds), correcting for library size\n",
      "\n",
      "estimating dispersions\n",
      "\n",
      "gene-wise dispersion estimates\n",
      "\n",
      "mean-dispersion relationship\n",
      "\n",
      "final dispersion estimates\n",
      "\n",
      "fitting model and testing\n",
      "\n"
     ]
    }
   ],
   "source": [
    "dds <- DESeq(dsTxi)"
   ]
  },
  {
   "cell_type": "code",
   "execution_count": 25,
   "id": "2f29ba6d-a065-4798-9729-06e35777ab4a",
   "metadata": {},
   "outputs": [
    {
     "data": {
      "image/png": "[encoded data removed]",
      "text/plain": [
       "plot without title"
      ]
     },
     "metadata": {
      "image/png": {
       "height": 420,
       "width": 420
      }
     },
     "output_type": "display_data"
    }
   ],
   "source": [
    "vsd <- vst(dds, blind=FALSE)\n",
    "plotPCA(vsd, intgroup=c(\"Treatment\"))"
   ]
  },
  {
   "cell_type": "code",
   "execution_count": null,
   "id": "1ac049ab-59af-4986-ad3e-72ff55229a3d",
   "metadata": {},
   "outputs": [],
   "source": []
  }
 ],
 "metadata": {
  "kernelspec": {
   "display_name": "R",
   "language": "R",
   "name": "ir"
  },
  "language_info": {
   "codemirror_mode": "r",
   "file_extension": ".r",
   "mimetype": "text/x-r-source",
   "name": "R",
   "pygments_lexer": "r",
   "version": "4.1.3"
  }
 },
 "nbformat": 4,
 "nbformat_minor": 5
}
